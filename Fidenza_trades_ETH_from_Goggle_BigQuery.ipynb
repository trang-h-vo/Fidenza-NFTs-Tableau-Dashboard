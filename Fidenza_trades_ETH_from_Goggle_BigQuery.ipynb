{
 "cells": [
  {
   "cell_type": "markdown",
   "id": "8524657c",
   "metadata": {},
   "source": [
    "## Fidenza trades - data collection"
   ]
  },
  {
   "cell_type": "code",
   "execution_count": 1,
   "id": "581348f9",
   "metadata": {},
   "outputs": [],
   "source": [
    "import pandas as pd"
   ]
  },
  {
   "cell_type": "code",
   "execution_count": 2,
   "id": "3b90b3c3",
   "metadata": {},
   "outputs": [],
   "source": [
    "import os\n",
    "path = str(os.getcwd()) + '/'"
   ]
  },
  {
   "cell_type": "markdown",
   "id": "6177aa65",
   "metadata": {},
   "source": [
    "### 1. Fidenza trades in ETH\n",
    "\n",
    "Source: Ethereum public dataset built by Google BigQuery https://evgemedvedev.medium.com/ethereum-blockchain-on-google-bigquery-283fb300f579"
   ]
  },
  {
   "cell_type": "markdown",
   "id": "c1be46a1",
   "metadata": {},
   "source": [
    "For those with paid access to Google BigQuery, you can connect & query directly from this Python notebook using the code below:"
   ]
  },
  {
   "cell_type": "code",
   "execution_count": 3,
   "id": "9769981f",
   "metadata": {},
   "outputs": [],
   "source": [
    "# from google.cloud import bigquery\n",
    "\n",
    "# # set your service account key\n",
    "# os.environ['GOOGLE_APPLICATION_CREDENTIALS'] = 'file_path/my_gcp_key.json'"
   ]
  },
  {
   "cell_type": "code",
   "execution_count": 4,
   "id": "d58bfd86",
   "metadata": {},
   "outputs": [],
   "source": [
    "# %load_ext google.cloud.bigquery"
   ]
  },
  {
   "cell_type": "code",
   "execution_count": 5,
   "id": "0a960ca1",
   "metadata": {
    "scrolled": true
   },
   "outputs": [],
   "source": [
    "# %%bigquery fdz_trades\n",
    "# SELECT\n",
    "#   a.block_timestamp as block_time,\n",
    "#   a.value AS token_id,\n",
    "#   b.value / POW(10,18) AS original_amount\n",
    "# FROM\n",
    "#   `bigquery-public-data.crypto_ethereum.token_transfers` a\n",
    "# LEFT JOIN\n",
    "#   `bigquery-public-data.crypto_ethereum.transactions` b\n",
    "# ON\n",
    "#   a.transaction_hash = b.HASH\n",
    "# WHERE\n",
    "#   token_address = '0xa7d8d9ef8d8ce8992df33d8b8cf4aebabd5bd270'\n",
    "#   AND (SAFE_CAST(a.value AS NUMERIC) BETWEEN 78000000 AND 78000998)\n",
    "#   AND (DATE(a.block_timestamp) BETWEEN \"2021-06-11\" AND \"2021-07-10\")\n",
    "# ORDER BY\n",
    "#   a.block_timestamp DESC"
   ]
  },
  {
   "cell_type": "markdown",
   "id": "7441e50a",
   "metadata": {},
   "source": [
    "For those with the free access like myself, let's work around the limited quota by executing the SQL query on BigQuery console, then downloading the data to your local folder before processing:"
   ]
  },
  {
   "cell_type": "code",
   "execution_count": 6,
   "id": "de81939e",
   "metadata": {},
   "outputs": [],
   "source": [
    "fdz_trades = pd.read_csv(path + 'Fidenza_updated/fdz_trades_to_20220330.csv')"
   ]
  },
  {
   "cell_type": "code",
   "execution_count": 7,
   "id": "fc2af00e",
   "metadata": {},
   "outputs": [
    {
     "data": {
      "text/html": [
       "<div>\n",
       "<style scoped>\n",
       "    .dataframe tbody tr th:only-of-type {\n",
       "        vertical-align: middle;\n",
       "    }\n",
       "\n",
       "    .dataframe tbody tr th {\n",
       "        vertical-align: top;\n",
       "    }\n",
       "\n",
       "    .dataframe thead th {\n",
       "        text-align: right;\n",
       "    }\n",
       "</style>\n",
       "<table border=\"1\" class=\"dataframe\">\n",
       "  <thead>\n",
       "    <tr style=\"text-align: right;\">\n",
       "      <th></th>\n",
       "      <th>block_time</th>\n",
       "      <th>token_id</th>\n",
       "      <th>original_amount</th>\n",
       "    </tr>\n",
       "  </thead>\n",
       "  <tbody>\n",
       "    <tr>\n",
       "      <th>0</th>\n",
       "      <td>2022-03-28 21:09:00</td>\n",
       "      <td>78000336</td>\n",
       "      <td>55.000</td>\n",
       "    </tr>\n",
       "    <tr>\n",
       "      <th>1</th>\n",
       "      <td>2022-03-25 09:52:00</td>\n",
       "      <td>78000893</td>\n",
       "      <td>249.005</td>\n",
       "    </tr>\n",
       "    <tr>\n",
       "      <th>2</th>\n",
       "      <td>2022-03-25 00:13:00</td>\n",
       "      <td>78000378</td>\n",
       "      <td>53.000</td>\n",
       "    </tr>\n",
       "  </tbody>\n",
       "</table>\n",
       "</div>"
      ],
      "text/plain": [
       "            block_time  token_id  original_amount\n",
       "0  2022-03-28 21:09:00  78000336           55.000\n",
       "1  2022-03-25 09:52:00  78000893          249.005\n",
       "2  2022-03-25 00:13:00  78000378           53.000"
      ]
     },
     "execution_count": 7,
     "metadata": {},
     "output_type": "execute_result"
    }
   ],
   "source": [
    "fdz_trades.head(3)"
   ]
  },
  {
   "cell_type": "code",
   "execution_count": 8,
   "id": "6c341ed2",
   "metadata": {
    "scrolled": true
   },
   "outputs": [
    {
     "name": "stdout",
     "output_type": "stream",
     "text": [
      "<class 'pandas.core.frame.DataFrame'>\n",
      "RangeIndex: 2022 entries, 0 to 2021\n",
      "Data columns (total 3 columns):\n",
      " #   Column           Non-Null Count  Dtype  \n",
      "---  ------           --------------  -----  \n",
      " 0   block_time       2022 non-null   object \n",
      " 1   token_id         2022 non-null   int64  \n",
      " 2   original_amount  2022 non-null   float64\n",
      "dtypes: float64(1), int64(1), object(1)\n",
      "memory usage: 47.5+ KB\n"
     ]
    }
   ],
   "source": [
    "fdz_trades.info()"
   ]
  },
  {
   "cell_type": "markdown",
   "id": "36a0a20a",
   "metadata": {},
   "source": [
    "***Define a function to clean current data, as well as update data later on***"
   ]
  },
  {
   "cell_type": "code",
   "execution_count": 9,
   "id": "91b02f10",
   "metadata": {},
   "outputs": [],
   "source": [
    "def trades_prep(df):\n",
    "    # drop rows with zero amount as they are likely to be transfer or in bundle transactions\n",
    "    df = df.loc[df['original_amount'] > 0.01]\n",
    "    \n",
    "    # reformat datetime column\n",
    "    df.loc[:,'block_time'] = df['block_time'].astype(str).str[:-1].str.replace('T', ' ')\n",
    "    df.loc[:,'block_time'] = pd.to_datetime(df['block_time'], format='%Y-%m-%d %H:%M:%S')\n",
    "\n",
    "    # get the minute to join with ETHUSD prices later\n",
    "    df.loc[:,'block_time'] = df['block_time'].dt.floor('T')\n",
    "    \n",
    "    return df"
   ]
  },
  {
   "cell_type": "markdown",
   "id": "4a001ac1",
   "metadata": {},
   "source": [
    "***Clean the current dataset - currently updated until March 30, 2022 17:00***"
   ]
  },
  {
   "cell_type": "code",
   "execution_count": 10,
   "id": "9304dfe4",
   "metadata": {},
   "outputs": [],
   "source": [
    "fdz_trades = trades_prep(fdz_trades)"
   ]
  },
  {
   "cell_type": "code",
   "execution_count": 11,
   "id": "04fea35e",
   "metadata": {},
   "outputs": [
    {
     "data": {
      "text/html": [
       "<div>\n",
       "<style scoped>\n",
       "    .dataframe tbody tr th:only-of-type {\n",
       "        vertical-align: middle;\n",
       "    }\n",
       "\n",
       "    .dataframe tbody tr th {\n",
       "        vertical-align: top;\n",
       "    }\n",
       "\n",
       "    .dataframe thead th {\n",
       "        text-align: right;\n",
       "    }\n",
       "</style>\n",
       "<table border=\"1\" class=\"dataframe\">\n",
       "  <thead>\n",
       "    <tr style=\"text-align: right;\">\n",
       "      <th></th>\n",
       "      <th>block_time</th>\n",
       "      <th>token_id</th>\n",
       "      <th>original_amount</th>\n",
       "    </tr>\n",
       "  </thead>\n",
       "  <tbody>\n",
       "    <tr>\n",
       "      <th>0</th>\n",
       "      <td>2022-03-28 21:09:00</td>\n",
       "      <td>78000336</td>\n",
       "      <td>55.000</td>\n",
       "    </tr>\n",
       "    <tr>\n",
       "      <th>1</th>\n",
       "      <td>2022-03-25 09:52:00</td>\n",
       "      <td>78000893</td>\n",
       "      <td>249.005</td>\n",
       "    </tr>\n",
       "    <tr>\n",
       "      <th>2</th>\n",
       "      <td>2022-03-25 00:13:00</td>\n",
       "      <td>78000378</td>\n",
       "      <td>53.000</td>\n",
       "    </tr>\n",
       "  </tbody>\n",
       "</table>\n",
       "</div>"
      ],
      "text/plain": [
       "           block_time  token_id  original_amount\n",
       "0 2022-03-28 21:09:00  78000336           55.000\n",
       "1 2022-03-25 09:52:00  78000893          249.005\n",
       "2 2022-03-25 00:13:00  78000378           53.000"
      ]
     },
     "execution_count": 11,
     "metadata": {},
     "output_type": "execute_result"
    }
   ],
   "source": [
    "fdz_trades.head(3)"
   ]
  },
  {
   "cell_type": "markdown",
   "id": "65712378",
   "metadata": {},
   "source": [
    "***Update data***"
   ]
  },
  {
   "cell_type": "code",
   "execution_count": 12,
   "id": "f9d35535",
   "metadata": {},
   "outputs": [],
   "source": [
    "# trades_update = pd.read_csv(path + '/Fidenza_updated/Fidenza_trades_to_date.csv')"
   ]
  },
  {
   "cell_type": "code",
   "execution_count": 13,
   "id": "098b3303",
   "metadata": {},
   "outputs": [],
   "source": [
    "# # clean the newly added data\n",
    "# clean_update = trades_prep(trades_update)\n",
    "\n",
    "# # concat with the current table - specify the new date, eg. currently updated to 2022-03-28\n",
    "# fdz_trades_to_new_date = pd.concat([clean_update, fdz_trades])\n",
    "\n",
    "# # reset index\n",
    "# fdz_trades_to_new_date.reset_index(drop=True, inplace=True)"
   ]
  },
  {
   "cell_type": "markdown",
   "id": "efbc25a8",
   "metadata": {},
   "source": [
    "Update local file"
   ]
  },
  {
   "cell_type": "code",
   "execution_count": 14,
   "id": "f9436179",
   "metadata": {},
   "outputs": [],
   "source": [
    "# fdz_trades_to_new_date.to_csv(path + 'Fidenza_updated/fdz_trades_to_new_date.csv', index=False)"
   ]
  }
 ],
 "metadata": {
  "kernelspec": {
   "display_name": "Python 3 (ipykernel)",
   "language": "python",
   "name": "python3"
  },
  "language_info": {
   "codemirror_mode": {
    "name": "ipython",
    "version": 3
   },
   "file_extension": ".py",
   "mimetype": "text/x-python",
   "name": "python",
   "nbconvert_exporter": "python",
   "pygments_lexer": "ipython3",
   "version": "3.9.7"
  }
 },
 "nbformat": 4,
 "nbformat_minor": 5
}
