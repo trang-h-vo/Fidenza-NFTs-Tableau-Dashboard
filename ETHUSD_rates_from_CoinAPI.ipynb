{
 "cells": [
  {
   "cell_type": "markdown",
   "id": "8524657c",
   "metadata": {},
   "source": [
    "## ETHUSD rates \n",
    "`This notebook is still a work in process`\n",
    "\n",
    "- The ETHUSD rates will be joined with the transaction data in ETH, then used to convert the token prices in ETH to USD.\n",
    "- Source: CoinAPI https://docs.coinapi.io/?python#timeseries-data-get\n",
    "- The free access allows queries of 100k records daily."
   ]
  },
  {
   "cell_type": "code",
   "execution_count": null,
   "id": "581348f9",
   "metadata": {},
   "outputs": [],
   "source": [
    "import pandas as pd\n",
    "import requests"
   ]
  },
  {
   "cell_type": "code",
   "execution_count": null,
   "id": "3b90b3c3",
   "metadata": {},
   "outputs": [],
   "source": [
    "import os\n",
    "path = str(os.getcwd()) + '/'"
   ]
  },
  {
   "cell_type": "markdown",
   "id": "77c3e22a",
   "metadata": {},
   "source": [
    "Sample request:"
   ]
  },
  {
   "cell_type": "code",
   "execution_count": null,
   "id": "cba3c823",
   "metadata": {},
   "outputs": [],
   "source": [
    "my_key = 'my_key'\n",
    "\n",
    "# specify the time frame & interval\n",
    "url = 'https://rest.coinapi.io/v1/exchangerate/ETH/USD/history?period_id=1MIN&time_start=2021-06-11T00:00:00&time_end=2022-03-30T23:59:00&limit=100000'\n",
    "\n",
    "headers = {'X-CoinAPI-Key' : my_key}\n",
    "response = requests.get(url, headers=headers)\n",
    "\n",
    "# convert response in json to a dataframe\n",
    "ethusd_df = pd.DataFrame.from_dict(response.json())"
   ]
  },
  {
   "cell_type": "code",
   "execution_count": null,
   "id": "e08b2583",
   "metadata": {},
   "outputs": [],
   "source": [
    "# write to a local file, if needed\n",
    "# ethusd_df.to_excel('file_name.xlsx', index=False)"
   ]
  },
  {
   "cell_type": "markdown",
   "id": "51b48e47",
   "metadata": {},
   "source": [
    "As the free API comes with daily limit, I've collected ETHUSD data in separate files. Let's put them together:"
   ]
  },
  {
   "cell_type": "code",
   "execution_count": null,
   "id": "bde2a5e7",
   "metadata": {},
   "outputs": [],
   "source": [
    "ethusd_2021_sep_oct = pd.read_excel(path + 'Fidenza_updated/ethusd_2021_sep_oct.xlsx')\n",
    "ethusd_2021_nov_dec = pd.read_excel(path + 'Fidenza_updated/ethusd_2021_nov_dec.xlsx')\n",
    "ethusd_2022_jan_feb = pd.read_excel(path + 'Fidenza_updated/ethusd_2022_jan_feb.xlsx')\n",
    "ethusd_2022_mar = pd.read_excel(path + 'Fidenza_updated/ethusd_2022_mar.xlsx')\n",
    "# data from Jun-Aug 2021 will be added soon"
   ]
  },
  {
   "cell_type": "code",
   "execution_count": null,
   "id": "99e37418",
   "metadata": {},
   "outputs": [],
   "source": [
    "# a quick glance at the raw data\n",
    "ethusd_2022_mar.head(2)"
   ]
  },
  {
   "cell_type": "code",
   "execution_count": null,
   "id": "f7a20fc4",
   "metadata": {},
   "outputs": [],
   "source": [
    "ethusd_2022_mar.info()"
   ]
  },
  {
   "cell_type": "markdown",
   "id": "478cb9cd",
   "metadata": {},
   "source": [
    "Define a function to clean the data first:"
   ]
  },
  {
   "cell_type": "code",
   "execution_count": null,
   "id": "3c3919d1",
   "metadata": {},
   "outputs": [],
   "source": [
    "def ethusd_prep(df):\n",
    "    # take the average of the OHLC rates per minute as our reference\n",
    "    df['ethusd_rate'] = df[['rate_open', 'rate_high', 'rate_low', 'rate_close']].mean(axis=1)\n",
    "    \n",
    "    # fix the datetime format\n",
    "    df.loc[:,'time_period_start'] = df['time_period_start'].astype(str).str.replace('T', ' ').str[:-9]\n",
    "    df.loc[:,'time_period_start'] = pd.to_datetime(df['time_period_start'], format='%Y-%m-%d %H:%M:%S')\n",
    "    \n",
    "    # drop unwanted columns\n",
    "    df.drop(columns=['time_period_end', 'time_open', 'time_close',\n",
    "                     'rate_open', 'rate_high', 'rate_low', 'rate_close', 'Unnamed: 0'], inplace=True)\n",
    "\n",
    "    # rename column to merge with historical data later\n",
    "    df.rename(columns={'time_period_start': 'block_time'}, inplace=True)\n",
    "    \n",
    "    # sort by descending datetime\n",
    "    df.sort_values(by='block_time', ascending=False, inplace=True)\n",
    "    return df"
   ]
  },
  {
   "cell_type": "code",
   "execution_count": null,
   "id": "b713800d",
   "metadata": {},
   "outputs": [],
   "source": [
    "for df in [ethusd_2022_mar, ethusd_2022_jan_feb, ethusd_2021_nov_dec, ethusd_2021_sep_oct]:\n",
    "    df = ethusd_prep(df)"
   ]
  },
  {
   "cell_type": "markdown",
   "id": "f860e077",
   "metadata": {},
   "source": [
    "Concaternate all relevant datasets for the full historical ETHUSD rate, currently from 2021-06-11 (launch date) to 2022-03-30:"
   ]
  },
  {
   "cell_type": "code",
   "execution_count": null,
   "id": "8da27262",
   "metadata": {},
   "outputs": [],
   "source": [
    "ethusd_rates_to_20220330 = pd.concat([ethusd_2022_mar, ethusd_2022_jan_feb, \n",
    "                                      ethusd_2021_nov_dec, ethusd_2021_sep_oct])"
   ]
  },
  {
   "cell_type": "code",
   "execution_count": null,
   "id": "5d8723c6",
   "metadata": {
    "scrolled": true
   },
   "outputs": [],
   "source": [
    "ethusd_rates_to_20220330.reset_index(drop=True, inplace=True)"
   ]
  },
  {
   "cell_type": "markdown",
   "id": "b4f9aca5",
   "metadata": {},
   "source": [
    "***Regular update***"
   ]
  },
  {
   "cell_type": "code",
   "execution_count": null,
   "id": "40e6114d",
   "metadata": {},
   "outputs": [],
   "source": [
    "my_key = ''\n",
    "\n",
    "# specify the update timeframe & frequency\n",
    "url = 'https://rest.coinapi.io/v1/exchangerate/ETH/USD/history?period_id=1MIN&time_start=2021-09-01T00:00:00&time_end=2021-10-31T23:59:00&limit=100000'\n",
    "\n",
    "headers = {'X-CoinAPI-Key' : my_key}\n",
    "response = requests.get(url, headers=headers)\n",
    "\n",
    "ethusd_update = pd.DataFrame.from_dict(response.json())"
   ]
  },
  {
   "cell_type": "code",
   "execution_count": null,
   "id": "6ba066fc",
   "metadata": {},
   "outputs": [],
   "source": [
    "# clean the new data\n",
    "ethusd_clean_update = ethusd_prep(df)\n",
    "\n",
    "# concat to the current table\n",
    "ethusd_rates_to_new_date = pd.concat([ethusd_clean_update, ethusd_rates_to_20220330])\n",
    "\n",
    "# reset index\n",
    "ethusd_rates_to_new_date.reset_index(drop=True, inplace=True)\n",
    "\n",
    "# update local file \n",
    "ethusd_rates_to_new_date.to_csv('file_path/ethusd_rates_to_new_date.csv', index=False)"
   ]
  },
  {
   "cell_type": "code",
   "execution_count": null,
   "id": "441e99c4",
   "metadata": {},
   "outputs": [],
   "source": []
  }
 ],
 "metadata": {
  "kernelspec": {
   "display_name": "Python 3 (ipykernel)",
   "language": "python",
   "name": "python3"
  },
  "language_info": {
   "codemirror_mode": {
    "name": "ipython",
    "version": 3
   },
   "file_extension": ".py",
   "mimetype": "text/x-python",
   "name": "python",
   "nbconvert_exporter": "python",
   "pygments_lexer": "ipython3",
   "version": "3.9.7"
  }
 },
 "nbformat": 4,
 "nbformat_minor": 5
}
